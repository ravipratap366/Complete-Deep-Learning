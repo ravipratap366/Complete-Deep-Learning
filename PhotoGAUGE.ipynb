{
  "nbformat": 4,
  "nbformat_minor": 0,
  "metadata": {
    "colab": {
      "name": "PhotoGAUGE.ipynb",
      "provenance": [],
      "collapsed_sections": [],
      "mount_file_id": "1HaP4Evi6kd1DHMBLsbEg5sCZbEuZdr4K",
      "authorship_tag": "ABX9TyOK7hiMasvvnzbY7X2XtxKS",
      "include_colab_link": true
    },
    "kernelspec": {
      "name": "python3",
      "display_name": "Python 3"
    },
    "language_info": {
      "name": "python"
    },
    "accelerator": "GPU",
    "gpuClass": "standard"
  },
  "cells": [
    {
      "cell_type": "markdown",
      "metadata": {
        "id": "view-in-github",
        "colab_type": "text"
      },
      "source": [
        "<a href=\"https://colab.research.google.com/github/ravipratap366/Complete-Deep-Learning/blob/master/PhotoGAUGE.ipynb\" target=\"_parent\"><img src=\"https://colab.research.google.com/assets/colab-badge.svg\" alt=\"Open In Colab\"/></a>"
      ]
    },
    {
      "cell_type": "code",
      "execution_count": 1,
      "metadata": {
        "id": "khF-jnA7-jjN"
      },
      "outputs": [],
      "source": [
        "import numpy as np\n",
        "import pandas as pd\n",
        "import cv2\n",
        "from IPython.display import Image\n",
        "import os "
      ]
    },
    {
      "cell_type": "code",
      "source": [
        "import utlis"
      ],
      "metadata": {
        "id": "k1HUVHdmVB7k",
        "colab": {
          "base_uri": "https://localhost:8080/",
          "height": 306
        },
        "outputId": "10062c5e-f7a5-40ef-f9f1-1f28ad4e38f0"
      },
      "execution_count": 2,
      "outputs": [
        {
          "output_type": "error",
          "ename": "ModuleNotFoundError",
          "evalue": "ignored",
          "traceback": [
            "\u001b[0;31m---------------------------------------------------------------------------\u001b[0m",
            "\u001b[0;31mModuleNotFoundError\u001b[0m                       Traceback (most recent call last)",
            "\u001b[0;32m<ipython-input-2-1589c81533f8>\u001b[0m in \u001b[0;36m<module>\u001b[0;34m()\u001b[0m\n\u001b[0;32m----> 1\u001b[0;31m \u001b[0;32mimport\u001b[0m \u001b[0mutlis\u001b[0m\u001b[0;34m\u001b[0m\u001b[0;34m\u001b[0m\u001b[0m\n\u001b[0m",
            "\u001b[0;31mModuleNotFoundError\u001b[0m: No module named 'utlis'",
            "",
            "\u001b[0;31m---------------------------------------------------------------------------\u001b[0;32m\nNOTE: If your import is failing due to a missing package, you can\nmanually install dependencies using either !pip or !apt.\n\nTo view examples of installing some common dependencies, click the\n\"Open Examples\" button below.\n\u001b[0;31m---------------------------------------------------------------------------\u001b[0m\n"
          ],
          "errorDetails": {
            "actions": [
              {
                "action": "open_url",
                "actionText": "Open Examples",
                "url": "/notebooks/snippets/importing_libraries.ipynb"
              }
            ]
          }
        }
      ]
    },
    {
      "cell_type": "code",
      "source": [
        "%tensorflow_version 2.x\n",
        "import tensorflow as tf\n",
        "device_name = tf.test.gpu_device_name()\n",
        "if device_name != '/device:GPU:0':\n",
        "  raise SystemError('GPU device not found')\n",
        "print('Found GPU at: {}'.format(device_name))"
      ],
      "metadata": {
        "colab": {
          "base_uri": "https://localhost:8080/"
        },
        "id": "Rq9TmQJ9I48u",
        "outputId": "c87a950e-db6f-4530-e146-aa6bac626efc"
      },
      "execution_count": 1,
      "outputs": [
        {
          "output_type": "stream",
          "name": "stdout",
          "text": [
            "Found GPU at: /device:GPU:0\n"
          ]
        }
      ]
    },
    {
      "cell_type": "code",
      "source": [
        "#!unzip '/content/drive/MyDrive/OneDrive_2022-07-14.zip' -d '/content/drive/MyDrive/Untitled folder/data_PhotoGAUGE'"
      ],
      "metadata": {
        "id": "dCyCqxNB-r85"
      },
      "execution_count": null,
      "outputs": []
    },
    {
      "cell_type": "code",
      "source": [
        "#Image('/content/drive/MyDrive/Untitled folder/data_PhotoGAUGE/pib-1ltaw4xb - frames/scene00121.png')"
      ],
      "metadata": {
        "id": "E0Oh_87XKvKr"
      },
      "execution_count": null,
      "outputs": []
    },
    {
      "cell_type": "code",
      "source": [
        "\n",
        "def getContours(img,cThr=[100,100],showCanny=False,minArea=1000,filter=0,draw =False):\n",
        "    imgGray = cv2.cvtColor(img,cv2.COLOR_BGR2GRAY)\n",
        "    imgBlur = cv2.GaussianBlur(imgGray,(5,5),1)\n",
        "    imgCanny = cv2.Canny(imgBlur,cThr[0],cThr[1])\n",
        "    kernel = np.ones((5,5))\n",
        "    imgDial = cv2.dilate(imgCanny,kernel,iterations=3)\n",
        "    imgThre = cv2.erode(imgDial,kernel,iterations=2)\n",
        "    if showCanny:cv2.imshow('Canny',imgThre)\n",
        "    contours,hiearchy = cv2.findContours(imgThre,cv2.RETR_EXTERNAL,cv2.CHAIN_APPROX_SIMPLE)\n",
        "    finalCountours = []\n",
        "    for i in contours:\n",
        "        area = cv2.contourArea(i)\n",
        "        if area > minArea:\n",
        "            peri = cv2.arcLength(i,True)\n",
        "            approx = cv2.approxPolyDP(i,0.02*peri,True)\n",
        "            bbox = cv2.boundingRect(approx)\n",
        "            if filter > 0:\n",
        "                if len(approx) == filter:\n",
        "                    finalCountours.append([len(approx),area,approx,bbox,i])\n",
        "            else:\n",
        "                finalCountours.append([len(approx),area,approx,bbox,i])\n",
        "    finalCountours = sorted(finalCountours,key = lambda x:x[1] ,reverse= True)\n",
        "    if draw:\n",
        "        for con in finalCountours:\n",
        "            cv2.drawContours(img,con[4],-1,(0,0,255),3)\n",
        "    return img, finalCountours\n",
        "\n",
        "def reorder(myPoints):\n",
        "    #print(myPoints.shape)\n",
        "    myPointsNew = np.zeros_like(myPoints)\n",
        "    myPoints = myPoints.reshape((4,2))\n",
        "    add = myPoints.sum(1)\n",
        "    myPointsNew[0] = myPoints[np.argmin(add)]\n",
        "    myPointsNew[3] = myPoints[np.argmax(add)]\n",
        "    diff = np.diff(myPoints,axis=1)\n",
        "    myPointsNew[1]= myPoints[np.argmin(diff)]\n",
        "    myPointsNew[2] = myPoints[np.argmax(diff)]\n",
        "    return myPointsNew\n",
        "\n",
        "def warpImg (img,points,w,h,pad=20):\n",
        "    # print(points)\n",
        "    points =reorder(points)\n",
        "    pts1 = np.float32(points)\n",
        "    pts2 = np.float32([[0,0],[w,0],[0,h],[w,h]])\n",
        "    matrix = cv2.getPerspectiveTransform(pts1,pts2)\n",
        "    imgWarp = cv2.warpPerspective(img,matrix,(w,h))\n",
        "    imgWarp = imgWarp[pad:imgWarp.shape[0]-pad,pad:imgWarp.shape[1]-pad]\n",
        "    return imgWarp\n",
        "\n",
        "def findDis(pts1,pts2):\n",
        "    return ((pts2[0]-pts1[0])**2 + (pts2[1]-pts1[1])**2)**0.5"
      ],
      "metadata": {
        "id": "4CVNpOxjMgAD"
      },
      "execution_count": 15,
      "outputs": []
    },
    {
      "cell_type": "code",
      "source": [
        ""
      ],
      "metadata": {
        "id": "5mKCCN6yQUfA"
      },
      "execution_count": 15,
      "outputs": []
    },
    {
      "cell_type": "code",
      "source": [
        " "
      ],
      "metadata": {
        "id": "Kj3YoE2z2sIp"
      },
      "execution_count": null,
      "outputs": []
    },
    {
      "cell_type": "code",
      "source": [
        ""
      ],
      "metadata": {
        "id": "F2Gzcpof2sLr"
      },
      "execution_count": 4,
      "outputs": []
    },
    {
      "cell_type": "code",
      "source": [
        "#getContours('/content/drive/MyDrive/Untitled folder/data_PhotoGAUGE/pib-1ltaw4xb - frames/scene00121.png')"
      ],
      "metadata": {
        "id": "At4qatMyMgCt"
      },
      "execution_count": 3,
      "outputs": []
    },
    {
      "cell_type": "code",
      "source": [
        "\n",
        "\n",
        "###################################\n",
        "webcam = True\n",
        "path = '/content/drive/MyDrive/Untitled folder/data_PhotoGAUGE/pib-1ltaw4xb - frames/scene00121.png'\n",
        "cap = cv2.VideoCapture(0)\n",
        "cap.set(10,160)\n",
        "cap.set(3,1920)\n",
        "cap.set(4,1080)\n",
        "scale = 3\n",
        "wP = 210 *scale\n",
        "hP= 297 *scale\n",
        "###################################\n",
        "\n",
        "while True:\n",
        "  img = cv2.imread(path)\n",
        "\n",
        "    imgContours , conts = utlis.getContours(img,minArea=50000,filter=4)\n",
        "    if len(conts) != 0:\n",
        "        biggest = conts[0][2]\n",
        "        #print(biggest)\n",
        "        imgWarp = utlis.warpImg(img, biggest, wP,hP)\n",
        "        imgContours2, conts2 = utlis.getContours(imgWarp,\n",
        "                                                 minArea=2000, filter=4,\n",
        "                                                 cThr=[50,50],draw = False)\n",
        "        if len(conts) != 0:\n",
        "            for obj in conts2:\n",
        "                cv2.polylines(imgContours2,[obj[2]],True,(0,255,0),2)\n",
        "                nPoints = utlis.reorder(obj[2])\n",
        "                nW = round((utlis.findDis(nPoints[0][0]//scale,nPoints[1][0]//scale)/10),1)\n",
        "                nH = round((utlis.findDis(nPoints[0][0]//scale,nPoints[2][0]//scale)/10),1)\n",
        "                cv2.arrowedLine(imgContours2, (nPoints[0][0][0], nPoints[0][0][1]), (nPoints[1][0][0], nPoints[1][0][1]),\n",
        "                                (255, 0, 255), 3, 8, 0, 0.05)\n",
        "                cv2.arrowedLine(imgContours2, (nPoints[0][0][0], nPoints[0][0][1]), (nPoints[2][0][0], nPoints[2][0][1]),\n",
        "                                (255, 0, 255), 3, 8, 0, 0.05)\n",
        "                x, y, w, h = obj[3]\n",
        "                cv2.putText(imgContours2, '{}cm'.format(nW), (x + 30, y - 10), cv2.FONT_HERSHEY_COMPLEX_SMALL, 1.5,\n",
        "                            (255, 0, 255), 2)\n",
        "                cv2.putText(imgContours2, '{}cm'.format(nH), (x - 70, y + h // 2), cv2.FONT_HERSHEY_COMPLEX_SMALL, 1.5,\n",
        "                            (255, 0, 255), 2)\n",
        "        cv2.imshow('A4', imgContours2)\n",
        "\n",
        "    img = cv2.resize(img,(0,0),None,0.5,0.5)\n",
        "    cv2.imshow('Original',img)\n",
        "    cv2.waitKey(1)"
      ],
      "metadata": {
        "colab": {
          "base_uri": "https://localhost:8080/",
          "height": 132
        },
        "id": "-icrwGLxMgFT",
        "outputId": "9ba5de6a-4d88-453a-8499-b0c1b02ee660"
      },
      "execution_count": 4,
      "outputs": [
        {
          "output_type": "error",
          "ename": "IndentationError",
          "evalue": "ignored",
          "traceback": [
            "\u001b[0;36m  File \u001b[0;32m\"<ipython-input-4-9c1c1cddb043>\"\u001b[0;36m, line \u001b[0;32m18\u001b[0m\n\u001b[0;31m    imgContours , conts = utlis.getContours(img,minArea=50000,filter=4)\u001b[0m\n\u001b[0m    ^\u001b[0m\n\u001b[0;31mIndentationError\u001b[0m\u001b[0;31m:\u001b[0m unexpected indent\n"
          ]
        }
      ]
    },
    {
      "cell_type": "code",
      "source": [
        "import numpy as np\n",
        "import pandas as pd\n",
        "import cv2\n",
        "from IPython.display import Image\n",
        "import os \n",
        "from google.colab.patches import cv2_imshow\n",
        "import uuid   # Unique identifier\n",
        "import time"
      ],
      "metadata": {
        "id": "7IoDBrLIMgH4"
      },
      "execution_count": 2,
      "outputs": []
    },
    {
      "cell_type": "code",
      "source": [
        ""
      ],
      "metadata": {
        "id": "DEXTxPlGCti2"
      },
      "execution_count": 2,
      "outputs": []
    },
    {
      "cell_type": "code",
      "source": [
        "main_folder = '/content/drive/MyDrive/x'\n",
        "my_folders = os.listdir(main_folder)\n",
        "print(my_folders)"
      ],
      "metadata": {
        "id": "IHGEVeY7MgKJ",
        "colab": {
          "base_uri": "https://localhost:8080/"
        },
        "outputId": "56463ded-5696-440a-ffdf-4f9359eb7033"
      },
      "execution_count": 13,
      "outputs": [
        {
          "output_type": "stream",
          "name": "stdout",
          "text": [
            "['3', '.ipynb_checkpoints']\n"
          ]
        }
      ]
    },
    {
      "cell_type": "code",
      "source": [
        ""
      ],
      "metadata": {
        "id": "F7KpPGxn63nK"
      },
      "execution_count": 13,
      "outputs": []
    },
    {
      "cell_type": "code",
      "source": [
        ""
      ],
      "metadata": {
        "id": "vn5Qvwmx63vU"
      },
      "execution_count": 13,
      "outputs": []
    },
    {
      "cell_type": "code",
      "source": [
        "for folder in my_folders:\n",
        "  path = main_folder +'/'+folder\n",
        "  images=[]\n",
        "  myList=os.listdir(path)\n",
        "  print(f'total no of image detected {len(myList)}')\n",
        "  for imgN in myList:\n",
        "    curImg=cv2.imread(f'{path}/{imgN}')\n",
        "    images.append(curImg)\n",
        "  #print(len(images))\n",
        "  stitcher = cv2.Stitcher.create() \n",
        "  (status,result) = stitcher.stitch(images)\n",
        "  if (status == cv2.STITCHER_OK):\n",
        "    print('Panorama Generated')\n",
        "    cv2_imshow(result)\n",
        "\n",
        "\n",
        "    IMAGES_PATH='/content/drive/MyDrive/panorama'\n",
        "    # Naming out image path\n",
        "    imgname = os.path.join(IMAGES_PATH,folder+str(uuid.uuid1())+'.png')\n",
        "\n",
        "    # Writes out image to file \n",
        "    cv2.imwrite(imgname, result)\n",
        "    print(imgname)\n",
        "    print('Panorama saved')\n",
        "\n",
        "    cv2.waitKey(1)\n",
        "  else:\n",
        "    print('panorama generation unsuccessful')\n",
        "\n",
        "cv2.waitKey(0)\n",
        "\n"
      ],
      "metadata": {
        "colab": {
          "base_uri": "https://localhost:8080/"
        },
        "id": "E3EWoxUmgA3V",
        "outputId": "564da37f-ab20-400d-809d-2201825ea2ee"
      },
      "execution_count": null,
      "outputs": [
        {
          "output_type": "stream",
          "name": "stdout",
          "text": [
            "total no of image detected 3\n",
            "Panorama Generated\n"
          ]
        }
      ]
    },
    {
      "cell_type": "code",
      "source": [
        ""
      ],
      "metadata": {
        "id": "lCwYLNC4iIpP"
      },
      "execution_count": null,
      "outputs": []
    }
  ]
}